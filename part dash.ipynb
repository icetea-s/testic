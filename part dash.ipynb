{
    "cells": [
        {
            "cell_type": "markdown",
            "metadata": {},
            "source": "Import required libraries"
        },
        {
            "cell_type": "code",
            "execution_count": null,
            "metadata": {},
            "outputs": [],
            "source": "import pandas as pd\nimport dash\nimport dash_html_components as html\nimport dash_core_components as dcc\nfrom dash.dependencies import Input, Output\nimport plotly.express as px"
        },
        {
            "cell_type": "markdown",
            "metadata": {},
            "source": "Read the airline data into pandas dataframe"
        },
        {
            "cell_type": "code",
            "execution_count": null,
            "metadata": {},
            "outputs": [],
            "source": "spacex_df = pd.read_csv(\"spacex_launch_dash.csv\")\nspacex_df=spacex_df.dropna()\nmax_payload = spacex_df['Payload Mass (kg)'].max()\nmin_payload = spacex_df['Payload Mass (kg)'].min()"
        },
        {
            "cell_type": "markdown",
            "metadata": {},
            "source": "Create a dash application"
        },
        {
            "cell_type": "code",
            "execution_count": null,
            "metadata": {},
            "outputs": [],
            "source": "app = dash.Dash(__name__)"
        },
        {
            "cell_type": "markdown",
            "metadata": {},
            "source": "Create an app layout"
        },
        {
            "cell_type": "code",
            "execution_count": null,
            "metadata": {},
            "outputs": [],
            "source": "app.layout = html.Div(children=[html.H1('SpaceX Launch Records Dashboard',\n                                        style={'textAlign': 'center', 'color': '#503D36',\n                                               'font-size': 40}),\n                                # TASK 1: Add a dropdown list to enable Launch Site selection\n                                # The default select value is for ALL sites\n                                # dcc.Dropdown(id='site-dropdown',...)\n                                dcc.Dropdown(id='site-dropdown',\n                                                options=[\n                                                    {'label': 'All Sites', 'value': 'ALL'},\n                                                    {'label': 'CCAFS LC-40', 'value': 'CCAFS LC-40'},\n                                                    {'label': 'VAFB SLC-4E', 'value': 'VAFB SLC-4E'},\n                                                    {'label': 'KSC LC-39A', 'value': 'KSC LC-39A'},\n                                                    {'label': 'CCAFS SLC-40', 'value': 'CCAFS SLC-40'},\n                                                    \n                                                ],\n                                                value='ALL',\n                                                placeholder=\"Select a launch site\",\n                                                searchable=True\n                                                ),\n                                html.Br(),\n                                # TASK 2: Add a pie chart to show the total successful launches count for all sites\n                                # If a specific launch site was selected, show the Success vs. Failed counts for the site\n                                html.Div(dcc.Graph(id='success-pie-chart')),\n                                html.Br(),\n                                html.P(\"Payload range (Kg):\"),\n                                # TASK 3: Add a slider to select payload range\n                                #dcc.RangeSlider(id='payload-slider',...)\n                                dcc.RangeSlider(id='payload-slider',\n                                                min=0, max=10000, step=1000,\n                                                marks={0: '0',\n                                                    100: '100'},\n                                                value=[min_payload, max_payload]),\n                                # TASK 4: Add a scatter chart to show the correlation between payload and launch success\n                                html.Div(dcc.Graph(id='success-payload-scatter-chart')),\n                                ])"
        },
        {
            "cell_type": "markdown",
            "metadata": {},
            "source": "TASK 2:<br>\nAdd a callback function for `site-dropdown` as input, `success-pie-chart` as output"
        },
        {
            "cell_type": "code",
            "execution_count": null,
            "metadata": {},
            "outputs": [],
            "source": "@app.callback(Output(component_id='success-pie-chart', component_property='figure'),\n              Input(component_id='site-dropdown', component_property='value'))\ndef get_pie_chart(entered_site):\n    filtered_df = spacex_df\n    if entered_site == 'ALL':\n        fig = px.pie(filtered_df, values='class', \n        names='Launch Site', \n        title='title')\n        return fig\n    else:\n        print(filtered_df.loc[spacex_df['Launch Site']==entered_site])\n        fig = px.pie(filtered_df.loc[spacex_df['Launch Site']==entered_site], values='class', \n        names='class', \n        title='Pie chart')\n        return fig\n\n        # return the outcomes piechart for a selected site\n# TASK 4:\n# Add a callback function for `site-dropdown` and `payload-slider` as inputs, `success-payload-scatter-chart` as output\n@app.callback(Output(component_id='success-payload-scatter-chart', component_property='figure'),\n              [Input(component_id='site-dropdown', component_property='value'), \n               Input(component_id=\"payload-slider\", component_property=\"value\")])\ndef get_scatter_chart(entered_site, slider_payload):\n    filtered_df = spacex_df\n    print('jebe jkeve')\n    if entered_site == 'ALL':\n        fig = px.scatter(filtered_df, x=\"Payload Mass (kg)\", y=\"class\", \n        \n        color=\"Booster Version Category\",  \n        title='Scatter plot')\n        return fig\n    else:\n        \n        fig = px.scatter(filtered_df.loc[spacex_df['Launch Site']==entered_site], x=\"Payload Mass (kg)\", y=\"class\",\n        \n        color=\"Booster Version Category\", \n        title='title')\n        return fig"
        },
        {
            "cell_type": "markdown",
            "metadata": {},
            "source": "Run the app"
        },
        {
            "cell_type": "code",
            "execution_count": null,
            "metadata": {},
            "outputs": [],
            "source": "if __name__ == '__main__':\n    app.run_server()"
        }
    ],
    "metadata": {
        "kernelspec": {
            "display_name": "Python 3.8",
            "language": "python",
            "name": "python3"
        },
        "language_info": {
            "codemirror_mode": {
                "name": "ipython",
                "version": 3
            },
            "file_extension": ".py",
            "mimetype": "text/x-python",
            "name": "python",
            "nbconvert_exporter": "python",
            "pygments_lexer": "ipython3",
            "version": "3.8.12"
        }
    },
    "nbformat": 4,
    "nbformat_minor": 2
}